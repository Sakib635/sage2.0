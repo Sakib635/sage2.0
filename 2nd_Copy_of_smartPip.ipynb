{
  "cells": [
    {
      "cell_type": "markdown",
      "metadata": {
        "id": "view-in-github",
        "colab_type": "text"
      },
      "source": [
        "<a href=\"https://colab.research.google.com/github/Sakib635/sage2.0/blob/main/2nd_Copy_of_smartPip.ipynb\" target=\"_parent\"><img src=\"https://colab.research.google.com/assets/colab-badge.svg\" alt=\"Open In Colab\"/></a>"
      ]
    },
    {
      "cell_type": "code",
      "execution_count": null,
      "metadata": {
        "colab": {
          "base_uri": "https://localhost:8080/"
        },
        "id": "WBFb7j43IV54",
        "outputId": "3a93f338-35ca-463a-d158-cc6b65f8915d"
      },
      "outputs": [
        {
          "output_type": "stream",
          "name": "stdout",
          "text": [
            "Collecting z3-solver\n",
            "  Downloading z3_solver-4.13.0.0-py2.py3-none-manylinux2014_x86_64.whl (57.3 MB)\n",
            "\u001b[2K     \u001b[90m━━━━━━━━━━━━━━━━━━━━━━━━━━━━━━━━━━━━━━━━\u001b[0m \u001b[32m57.3/57.3 MB\u001b[0m \u001b[31m8.3 MB/s\u001b[0m eta \u001b[36m0:00:00\u001b[0m\n",
            "\u001b[?25hSuccessfully installed z3-solver-4.13.0.0\n"
          ]
        }
      ],
      "source": [
        "!pip install z3-solver"
      ]
    },
    {
      "cell_type": "code",
      "execution_count": null,
      "metadata": {
        "id": "6eBkWwgrIr4n"
      },
      "outputs": [],
      "source": [
        "import os\n",
        "import json\n",
        "import re\n",
        "from z3 import Solver, Bool, Or, And, Implies, sat, Int, String, Not, Real, simplify, Optimize\n",
        "import time\n",
        "import logging"
      ]
    },
    {
      "cell_type": "code",
      "execution_count": 111,
      "metadata": {
        "id": "h0t9DO1rJRWt"
      },
      "outputs": [],
      "source": [
        "# Function to read the requirements.txt file from a directory\n",
        "def read_requirements(directory):\n",
        "    with open(os.path.join(directory, 'r3.txt'), 'r') as file:\n",
        "        return file.read()\n",
        "\n",
        "# Function to read the JSON file from a directory\n",
        "def read_json_file(directory, filename='updated_formated_8k.json'):\n",
        "    with open(os.path.join(directory, filename), 'r') as file:\n",
        "        return json.load(file)\n"
      ]
    },
    {
      "cell_type": "code",
      "source": [],
      "metadata": {
        "id": "RjVvdQTIJCfC"
      },
      "execution_count": null,
      "outputs": []
    },
    {
      "cell_type": "code",
      "source": [
        "# Function to parse the requirements.txt content\n",
        "def parse_requirements(requirements_txt):\n",
        "    requirements = {}\n",
        "    lines = requirements_txt.strip().split('\\n')\n",
        "    for line in lines:\n",
        "        line = line.strip()\n",
        "        if line:\n",
        "            if '==' in line:\n",
        "                package, version = line.split('==')\n",
        "                requirements[package.strip()] = ('==', version.strip())\n",
        "            elif '>=' in line:\n",
        "                package, version = line.split('>=')\n",
        "                requirements[package.strip()] = ('>=', version.strip())\n",
        "            elif '<=' in line:\n",
        "                package, version = line.split('<=')\n",
        "                requirements[package.strip()] = ('<=', version.strip())\n",
        "            elif '>' in line:\n",
        "                package, version = line.split('>')\n",
        "                requirements[package.strip()] = ('>', version.strip())\n",
        "            elif '<' in line:\n",
        "                package, version = line.split('<')\n",
        "                requirements[package.strip()] = ('<', version.strip())\n",
        "            elif '!=' in line:\n",
        "                package, version = line.split('!=')\n",
        "                requirements[package.strip()] = ('!=', version.strip())\n",
        "    return requirements\n"
      ],
      "metadata": {
        "id": "-0QbLvR2IoMj"
      },
      "execution_count": null,
      "outputs": []
    },
    {
      "cell_type": "code",
      "execution_count": 120,
      "metadata": {
        "id": "o5vV4rRgXT6N"
      },
      "outputs": [],
      "source": [
        "\n",
        "# Function to fetch versions according to constraints\n",
        "def fetch_versions(requirements, projects_data):\n",
        "    matching_versions = {}\n",
        "    for package, (operator, version_constraint) in requirements.items():\n",
        "        if package in projects_data['projects']:\n",
        "            available_versions = projects_data['projects'][package].keys()\n",
        "            if operator == '==':\n",
        "                pattern = re.compile(f'^{version_constraint.replace(\"*\", \".*\")}$')\n",
        "                matching_versions[package] = [v for v in available_versions if pattern.match(v)]\n",
        "            elif operator == '>=':\n",
        "                matching_versions[package] = [v for v in available_versions if v >= version_constraint]\n",
        "            elif operator == '<=':\n",
        "                matching_versions[package] = [v for v in available_versions if v <= version_constraint]\n",
        "            elif operator == '>':\n",
        "                matching_versions[package] = [v for v in available_versions if v > version_constraint]\n",
        "            elif operator == '<':\n",
        "                matching_versions[package] = [v for v in available_versions if v < version_constraint]\n",
        "            elif operator == '!=':\n",
        "                matching_versions[package] = [v for v in available_versions if v != version_constraint]\n",
        "    return matching_versions\n",
        "\n",
        "# Function to fetch dependencies for a specific version of a package\n",
        "def fetch_dependencies(package, version, projects_data):\n",
        "    dependencies = projects_data['projects'][package][version].get('dependency_packages', [])\n",
        "    if dependencies is None:\n",
        "        dependencies = []\n",
        "    print(f\"Package: {package}, Version: {version}, Dependencies: {dependencies}\")\n",
        "    return dependencies\n",
        "\n",
        "\n",
        "\n",
        "# Function to parse requirements from a list of dependencies\n",
        "def parse_requirements_from_list(dependencies):\n",
        "    requirements = {}\n",
        "    for dependency in dependencies:\n",
        "        print(f'hello-dependency: ',dependency)\n",
        "        if '==' in dependency:\n",
        "            package, version = dependency.split('==')\n",
        "            requirements[package.strip()] = ('==', version.strip())\n",
        "\n",
        "        elif '>=' in dependency:\n",
        "            package, version = dependency.split('>=')\n",
        "            requirements[package.strip()] = ('>=', version.strip())\n",
        "        elif '<=' in dependency:\n",
        "            package, version = dependency.split('<=')\n",
        "            requirements[package.strip()] = ('<=', version.strip())\n",
        "        elif '>' in dependency:\n",
        "            package, version = dependency.split('>')\n",
        "            requirements[package.strip()] = ('>', version.strip())\n",
        "        elif '<' in dependency:\n",
        "            package, version = dependency.split('<')\n",
        "            requirements[package.strip()] = ('<', version.strip())\n",
        "        elif '!=' in dependency:\n",
        "            package, version = dependency.split('!=')\n",
        "            requirements[package.strip()] = ('!=', version.strip())\n",
        "    #print(f\"requirements = {requirements}\")\n",
        "    return requirements\n",
        "\n"
      ]
    },
    {
      "cell_type": "code",
      "source": [
        "# Function to recursively fetch versions and their dependencies\n",
        "def fetch_versions_and_dependencies(requirements, projects_data, visited=None):\n",
        "\n",
        "    if visited is None:\n",
        "        visited = set()\n",
        "    direct_dependencies = fetch_versions(requirements, projects_data)\n",
        "    transitive_dependencies = {}\n",
        "\n",
        "    for package, versions in list(direct_dependencies.items()):  # Use list to create a copy for iteration\n",
        "        for version in versions:\n",
        "            if (package, version) not in visited:\n",
        "                visited.add((package, version))\n",
        "                dependencies = fetch_dependencies(package, version, projects_data)\n",
        "                #todo: Is this correct\n",
        "                if dependencies:  # Only proceed if there are dependencies\n",
        "                    dependency_requirements = parse_requirements_from_list(dependencies)\n",
        "\n",
        "                    if dependency_requirements:\n",
        "                        dep_direct, dep_transitive = fetch_versions_and_dependencies(dependency_requirements, projects_data, visited)\n",
        "                        transitive_dependencies[f\"{package}=={version}\"] = dep_direct\n",
        "                        transitive_dependencies.update(dep_transitive)\n",
        "    #print(f\"Direct Dependencies generate_smt: {direct_dependencies}\")\n",
        "    #print(f\"Transitive Dependencies generate_smt: {transitive_dependencies}\")\n",
        "    return direct_dependencies, transitive_dependencies"
      ],
      "metadata": {
        "id": "NJntQ_eCI2Vb"
      },
      "execution_count": null,
      "outputs": []
    },
    {
      "cell_type": "code",
      "source": [
        "#Generate the Cnf Formate\n",
        "def generate_smt_expression(direct_dependencies, transitive_dependencies):\n",
        "    constraints = []\n",
        "\n",
        "    # Generate constraints for direct dependencies\n",
        "    for package, versions in direct_dependencies.items():\n",
        "        if isinstance(versions, list):\n",
        "            package_constraint = Or([String(package) == v for v in versions])\n",
        "            constraints.append(package_constraint)\n",
        "\n",
        "    # Generate constraints for transitive dependencies\n",
        "    for package_version, dependencies in transitive_dependencies.items():\n",
        "        if isinstance(dependencies, dict):\n",
        "            package, version = package_version.split('==')\n",
        "            dependency_constraint = Or([String(dep_package) == dep_version for dep_package, dep_versions in dependencies.items() for dep_version in dep_versions])\n",
        "            constraints.append(Or(Not(String(package) == version), dependency_constraint))\n",
        "\n",
        "    # Combine all constraints\n",
        "    final_constraint = And(constraints)\n",
        "    return final_constraint, constraints"
      ],
      "metadata": {
        "id": "y2Z0gv0XUfDj"
      },
      "execution_count": 121,
      "outputs": []
    },
    {
      "cell_type": "code",
      "source": [
        "def smt_solver(smt_expression):\n",
        "    # Define the variables\n",
        "    variables = {}\n",
        "    # Create the solver\n",
        "    solver = Solver()\n",
        "    # Add the expression to the solver\n",
        "    solver.add(smt_expression)\n",
        "    solutions = []\n",
        "    while solver.check() == sat:\n",
        "        model = solver.model()\n",
        "        solution = {d.name(): model[d].as_string() for d in model.decls()}\n",
        "        solutions.append(solution)\n",
        "\n",
        "\n",
        "        # Create a constraint to block the current model\n",
        "        block = []\n",
        "        for d in model.decls():\n",
        "            c = d()\n",
        "            block.append(c != model[d])\n",
        "        solver.add(Or(block))\n",
        "\n",
        "    return solutions\n",
        "\n",
        "#Optimize for the latest version: Identify the latest version that satisfies all constraints.\n",
        "def get_latest_version(solutions):\n",
        "    latest_solution = None\n",
        "\n",
        "    if not solutions:\n",
        "        return latest_solution\n",
        "\n",
        "    # Initialize the latest_solution with the first solution\n",
        "    latest_solution = solutions[0]\n",
        "\n",
        "    for solution in solutions:\n",
        "        for key in solution.keys():\n",
        "            current_version = solution[key].split('.')\n",
        "            latest_version = latest_solution[key].split('.')\n",
        "\n",
        "            # Pad shorter version numbers with zeros for fair comparison\n",
        "            while len(current_version) < len(latest_version):\n",
        "                current_version.append('0')\n",
        "            while len(latest_version) < len(current_version):\n",
        "                latest_version.append('0')\n",
        "\n",
        "            if current_version > latest_version:\n",
        "                latest_solution = solution\n",
        "                break\n",
        "            elif current_version < latest_version:\n",
        "                break\n",
        "\n",
        "    return latest_solution\n",
        "\n",
        "\n",
        "\n"
      ],
      "metadata": {
        "id": "2wKoZSIfXVO2"
      },
      "execution_count": 122,
      "outputs": []
    },
    {
      "cell_type": "code",
      "source": [
        "\n",
        "def main():\n",
        "    directory = '/content/drive/MyDrive/smart pip sample data'\n",
        "\n",
        "\n",
        "\n",
        "    # Log file setup\n",
        "    log_file = 'execution_log.txt'\n",
        "\n",
        "    def log_execution_time(action_name, start_time, end_time):\n",
        "        with open(log_file, 'a') as file:\n",
        "            file.write(f'{action_name} execution time: {end_time - start_time} seconds\\n')\n",
        "\n",
        "\n",
        "\n",
        "    # Read files from the directory\n",
        "    start_time = time.time()\n",
        "    requirements_txt = read_requirements(directory)\n",
        "    projects_data = read_json_file(directory)\n",
        "    end_time = time.time()\n",
        "    log_execution_time(\"Reading files\", start_time, end_time)\n",
        "\n",
        "    # Parse requirements\n",
        "    start_time = time.time()\n",
        "    requirements = parse_requirements(requirements_txt)\n",
        "    end_time = time.time()\n",
        "    log_execution_time(\"Parsing requirements\", start_time, end_time)\n",
        "    print(\"Parsed requirements:\", requirements)\n",
        "\n",
        "    # Fetch matching versions and their dependencies\n",
        "    start_time = time.time()\n",
        "    direct_dependencies, transitive_dependencies = fetch_versions_and_dependencies(requirements, projects_data)\n",
        "    end_time = time.time()\n",
        "    log_execution_time(\"Fetching versions and dependencies\", start_time, end_time)\n",
        "    print(\"Direct dependencies:\", direct_dependencies)\n",
        "    print(\"Transitive dependencies:\", transitive_dependencies)\n",
        "    # Save to a file (optional)\n",
        "    with open('Transitive_expression.json', 'w') as file:\n",
        "        file.write(str(transitive_dependencies))\n",
        "\n",
        "\n",
        "\n",
        "    # Generate SMT expression\n",
        "    start_time = time.time()\n",
        "    smt_expression,const = generate_smt_expression(direct_dependencies, transitive_dependencies)\n",
        "    print(len(const))\n",
        "    end_time = time.time()\n",
        "    log_execution_time(\"Generating SMT expression\", start_time, end_time)\n",
        "    # Save to a file (optional)\n",
        "    with open('SMT_expression.txt', 'w') as file:\n",
        "      file.write(str(const))\n",
        "\n",
        "    # Solve the SMT expression\n",
        "    start_time = time.time()\n",
        "    solution = smt_solver(smt_expression)\n",
        "    end_time = time.time()\n",
        "    log_execution_time(\"Solving SMT expression\", start_time, end_time)\n",
        "    print(f'Possible Solutions: {solution}')\n",
        "\n",
        "    # Get the latest version solution\n",
        "    start_time = time.time()\n",
        "    latest_version_solution = get_latest_version(solution)\n",
        "    end_time = time.time()\n",
        "    log_execution_time(\"Getting latest version solution\", start_time, end_time)\n",
        "    print(f'Latest Solution: {latest_version_solution}')\n",
        "\n",
        "if __name__ == \"__main__\":\n",
        "    main()"
      ],
      "metadata": {
        "colab": {
          "base_uri": "https://localhost:8080/"
        },
        "id": "GlX8ulQPI0Og",
        "outputId": "ff536a29-b77f-4ff2-d96d-fb191f9f7060"
      },
      "execution_count": 125,
      "outputs": [
        {
          "output_type": "stream",
          "name": "stdout",
          "text": [
            "Parsed requirements: {'idna': ('>', '2.6'), 'requests': ('==', '2.22.0')}\n",
            "Package: idna, Version: 3.7, Dependencies: []\n",
            "Package: idna, Version: 3.6, Dependencies: []\n",
            "Package: idna, Version: 3.5, Dependencies: []\n",
            "Package: idna, Version: 3.4, Dependencies: []\n",
            "Package: idna, Version: 3.3, Dependencies: []\n",
            "Package: idna, Version: 3.2, Dependencies: []\n",
            "Package: idna, Version: 3.1, Dependencies: []\n",
            "Package: idna, Version: 3.0, Dependencies: []\n",
            "Package: idna, Version: 2.9, Dependencies: []\n",
            "Package: idna, Version: 2.8, Dependencies: []\n",
            "Package: idna, Version: 2.7, Dependencies: []\n",
            "Package: requests, Version: 2.22.0, Dependencies: ['chardet<3.1.0,>=3.0.2', 'idna<2.9,>=2.5', 'urllib3!=1.25.0,!=1.25.1,<1.26,>=1.21.1', 'certifi>=2017.4.17']\n",
            "hello-dependency:  chardet<3.1.0,>=3.0.2\n",
            "hello-dependency:  idna<2.9,>=2.5\n",
            "hello-dependency:  urllib3!=1.25.0,!=1.25.1,<1.26,>=1.21.1\n",
            "hello-dependency:  certifi>=2017.4.17\n",
            "Package: certifi, Version: 2024.2.2, Dependencies: []\n",
            "Package: certifi, Version: 2023.11.17, Dependencies: []\n",
            "Package: certifi, Version: 2023.7.22, Dependencies: []\n",
            "Package: certifi, Version: 2023.5.7, Dependencies: []\n",
            "Package: certifi, Version: 2022.12.7, Dependencies: []\n",
            "Package: certifi, Version: 2022.9.24, Dependencies: []\n",
            "Package: certifi, Version: 2022.9.14, Dependencies: []\n",
            "Package: certifi, Version: 2022.6.15.2, Dependencies: []\n",
            "Package: certifi, Version: 2022.6.15.1, Dependencies: []\n",
            "Package: certifi, Version: 2022.6.15, Dependencies: []\n",
            "Package: certifi, Version: 2022.5.18.1, Dependencies: []\n",
            "Package: certifi, Version: 2022.5.18, Dependencies: []\n",
            "Package: certifi, Version: 2021.10.8, Dependencies: []\n",
            "Package: certifi, Version: 2021.5.30, Dependencies: []\n",
            "Package: certifi, Version: 2020.12.5, Dependencies: []\n",
            "Package: certifi, Version: 2020.11.8, Dependencies: []\n",
            "Package: certifi, Version: 2020.6.20, Dependencies: []\n",
            "Package: certifi, Version: 2020.4.5.2, Dependencies: []\n",
            "Package: certifi, Version: 2020.4.5.1, Dependencies: []\n",
            "Package: certifi, Version: 2020.4.5, Dependencies: []\n",
            "Package: certifi, Version: 2019.11.28, Dependencies: []\n",
            "Package: certifi, Version: 2019.9.11, Dependencies: []\n",
            "Package: certifi, Version: 2019.6.16, Dependencies: []\n",
            "Package: certifi, Version: 2019.3.9, Dependencies: []\n",
            "Package: certifi, Version: 2018.11.29, Dependencies: []\n",
            "Package: certifi, Version: 2018.10.15, Dependencies: []\n",
            "Package: certifi, Version: 2018.8.24, Dependencies: []\n",
            "Package: certifi, Version: 2018.8.13, Dependencies: []\n",
            "Package: certifi, Version: 2018.4.16, Dependencies: []\n",
            "Package: certifi, Version: 2018.1.18, Dependencies: []\n",
            "Package: certifi, Version: 2017.7.27.1, Dependencies: []\n",
            "Package: certifi, Version: 2017.7.27, Dependencies: []\n",
            "Package: certifi, Version: 2017.4.17, Dependencies: []\n",
            "Direct dependencies: {'idna': ['3.7', '3.6', '3.5', '3.4', '3.3', '3.2', '3.1', '3.0', '2.9', '2.8', '2.7'], 'requests': ['2.22.0']}\n",
            "Transitive dependencies: {'requests==2.22.0': {'certifi': ['2024.2.2', '2023.11.17', '2023.7.22', '2023.5.7', '2022.12.7', '2022.9.24', '2022.9.14', '2022.6.15.2', '2022.6.15.1', '2022.6.15', '2022.5.18.1', '2022.5.18', '2021.10.8', '2021.5.30', '2020.12.5', '2020.11.8', '2020.6.20', '2020.4.5.2', '2020.4.5.1', '2020.4.5', '2019.11.28', '2019.9.11', '2019.6.16', '2019.3.9', '2018.11.29', '2018.10.15', '2018.8.24', '2018.8.13', '2018.4.16', '2018.1.18', '2017.7.27.1', '2017.7.27', '2017.4.17']}}\n",
            "3\n",
            "Possible Solutions: [{'idna': '3.0', 'certifi': '2020.6.20', 'requests': '2.22.0'}, {'idna': '3.7', 'requests': '2.22.0', 'certifi': '2020.6.20'}, {'idna': '3.7', 'requests': '2.22.0', 'certifi': '2020.12.5'}, {'idna': '3.7', 'requests': '2.22.0', 'certifi': '2022.5.18.1'}, {'idna': '3.7', 'requests': '2.22.0', 'certifi': '2019.9.11'}, {'idna': '3.7', 'requests': '2.22.0', 'certifi': '2022.6.15.1'}, {'idna': '3.7', 'requests': '2.22.0', 'certifi': '2017.7.27.1'}, {'idna': '3.7', 'requests': '2.22.0', 'certifi': '2020.11.8'}, {'idna': '3.7', 'requests': '2.22.0', 'certifi': '2022.9.24'}, {'idna': '3.7', 'requests': '2.22.0', 'certifi': '2021.10.8'}, {'idna': '3.7', 'requests': '2.22.0', 'certifi': '2022.6.15'}, {'idna': '3.7', 'requests': '2.22.0', 'certifi': '2021.5.30'}, {'idna': '3.7', 'requests': '2.22.0', 'certifi': '2023.7.22'}, {'idna': '3.6', 'requests': '2.22.0', 'certifi': '2023.7.22'}, {'idna': '3.4', 'requests': '2.22.0', 'certifi': '2023.7.22'}, {'idna': '3.5', 'requests': '2.22.0', 'certifi': '2023.7.22'}, {'idna': '3.3', 'requests': '2.22.0', 'certifi': '2023.7.22'}, {'idna': '2.9', 'requests': '2.22.0', 'certifi': '2023.7.22'}, {'idna': '2.7', 'requests': '2.22.0', 'certifi': '2023.7.22'}, {'idna': '3.1', 'requests': '2.22.0', 'certifi': '2023.7.22'}, {'idna': '2.8', 'requests': '2.22.0', 'certifi': '2023.7.22'}, {'idna': '3.2', 'requests': '2.22.0', 'certifi': '2023.7.22'}, {'idna': '3.0', 'requests': '2.22.0', 'certifi': '2023.7.22'}, {'idna': '3.5', 'requests': '2.22.0', 'certifi': '2017.7.27'}, {'idna': '3.5', 'requests': '2.22.0', 'certifi': '2022.5.18'}, {'idna': '3.5', 'requests': '2.22.0', 'certifi': '2023.11.17'}, {'idna': '3.5', 'requests': '2.22.0', 'certifi': '2022.6.15'}, {'idna': '3.5', 'requests': '2.22.0', 'certifi': '2019.3.9'}, {'idna': '3.5', 'requests': '2.22.0', 'certifi': '2019.9.11'}, {'idna': '3.5', 'requests': '2.22.0', 'certifi': '2023.5.7'}, {'idna': '3.5', 'requests': '2.22.0', 'certifi': '2017.7.27.1'}, {'idna': '3.5', 'requests': '2.22.0', 'certifi': '2020.4.5.1'}, {'idna': '3.5', 'requests': '2.22.0', 'certifi': '2020.11.8'}, {'idna': '3.5', 'requests': '2.22.0', 'certifi': '2018.11.29'}, {'idna': '3.5', 'requests': '2.22.0', 'certifi': '2022.9.14'}, {'idna': '3.5', 'requests': '2.22.0', 'certifi': '2020.4.5.2'}, {'idna': '3.5', 'requests': '2.22.0', 'certifi': '2017.4.17'}, {'idna': '3.5', 'requests': '2.22.0', 'certifi': '2021.10.8'}, {'idna': '3.5', 'requests': '2.22.0', 'certifi': '2018.4.16'}, {'idna': '3.5', 'requests': '2.22.0', 'certifi': '2021.5.30'}, {'idna': '3.5', 'requests': '2.22.0', 'certifi': '2024.2.2'}, {'idna': '3.5', 'requests': '2.22.0', 'certifi': '2022.5.18.1'}, {'idna': '3.5', 'requests': '2.22.0', 'certifi': '2018.8.24'}, {'idna': '3.5', 'requests': '2.22.0', 'certifi': '2018.1.18'}, {'idna': '3.5', 'requests': '2.22.0', 'certifi': '2019.11.28'}, {'idna': '3.5', 'requests': '2.22.0', 'certifi': '2022.9.24'}, {'idna': '3.5', 'requests': '2.22.0', 'certifi': '2022.6.15.1'}, {'idna': '3.5', 'requests': '2.22.0', 'certifi': '2018.10.15'}, {'idna': '3.5', 'requests': '2.22.0', 'certifi': '2020.6.20'}, {'idna': '3.5', 'requests': '2.22.0', 'certifi': '2018.8.13'}, {'idna': '3.5', 'requests': '2.22.0', 'certifi': '2022.12.7'}, {'idna': '3.5', 'requests': '2.22.0', 'certifi': '2019.6.16'}, {'idna': '3.5', 'requests': '2.22.0', 'certifi': '2022.6.15.2'}, {'idna': '3.5', 'requests': '2.22.0', 'certifi': '2020.4.5'}, {'idna': '3.5', 'requests': '2.22.0', 'certifi': '2020.12.5'}, {'idna': '2.9', 'requests': '2.22.0', 'certifi': '2019.3.9'}, {'idna': '3.3', 'requests': '2.22.0', 'certifi': '2019.3.9'}, {'idna': '3.6', 'requests': '2.22.0', 'certifi': '2019.3.9'}, {'idna': '3.7', 'requests': '2.22.0', 'certifi': '2019.3.9'}, {'idna': '2.7', 'requests': '2.22.0', 'certifi': '2019.3.9'}, {'idna': '3.1', 'requests': '2.22.0', 'certifi': '2019.3.9'}, {'idna': '3.0', 'requests': '2.22.0', 'certifi': '2019.3.9'}, {'idna': '2.8', 'requests': '2.22.0', 'certifi': '2019.3.9'}, {'idna': '3.2', 'requests': '2.22.0', 'certifi': '2019.3.9'}, {'idna': '3.4', 'requests': '2.22.0', 'certifi': '2019.3.9'}, {'idna': '3.0', 'requests': '2.22.0', 'certifi': '2017.7.27.1'}, {'idna': '3.0', 'requests': '2.22.0', 'certifi': '2022.5.18.1'}, {'idna': '3.0', 'requests': '2.22.0', 'certifi': '2022.6.15.2'}, {'idna': '3.0', 'requests': '2.22.0', 'certifi': '2020.11.8'}, {'idna': '3.0', 'requests': '2.22.0', 'certifi': '2019.11.28'}, {'idna': '3.0', 'requests': '2.22.0', 'certifi': '2023.5.7'}, {'idna': '3.0', 'requests': '2.22.0', 'certifi': '2022.6.15.1'}, {'idna': '3.0', 'requests': '2.22.0', 'certifi': '2024.2.2'}, {'idna': '3.0', 'requests': '2.22.0', 'certifi': '2018.8.24'}, {'idna': '3.0', 'requests': '2.22.0', 'certifi': '2020.12.5'}, {'idna': '3.0', 'requests': '2.22.0', 'certifi': '2018.4.16'}, {'idna': '3.0', 'requests': '2.22.0', 'certifi': '2021.5.30'}, {'idna': '3.0', 'requests': '2.22.0', 'certifi': '2019.9.11'}, {'idna': '3.0', 'requests': '2.22.0', 'certifi': '2020.4.5.2'}, {'idna': '3.0', 'requests': '2.22.0', 'certifi': '2019.6.16'}, {'idna': '3.0', 'requests': '2.22.0', 'certifi': '2018.1.18'}, {'idna': '3.0', 'requests': '2.22.0', 'certifi': '2020.4.5'}, {'idna': '3.0', 'requests': '2.22.0', 'certifi': '2022.12.7'}, {'idna': '3.0', 'requests': '2.22.0', 'certifi': '2020.4.5.1'}, {'idna': '3.0', 'requests': '2.22.0', 'certifi': '2022.9.14'}, {'idna': '3.0', 'requests': '2.22.0', 'certifi': '2022.5.18'}, {'idna': '3.0', 'requests': '2.22.0', 'certifi': '2017.4.17'}, {'idna': '3.0', 'requests': '2.22.0', 'certifi': '2023.11.17'}, {'idna': '3.0', 'requests': '2.22.0', 'certifi': '2018.8.13'}, {'idna': '3.0', 'requests': '2.22.0', 'certifi': '2017.7.27'}, {'idna': '3.0', 'requests': '2.22.0', 'certifi': '2018.11.29'}, {'idna': '3.0', 'requests': '2.22.0', 'certifi': '2022.6.15'}, {'idna': '3.0', 'requests': '2.22.0', 'certifi': '2018.10.15'}, {'idna': '3.0', 'requests': '2.22.0', 'certifi': '2022.9.24'}, {'idna': '3.0', 'requests': '2.22.0', 'certifi': '2021.10.8'}, {'idna': '2.7', 'requests': '2.22.0', 'certifi': '2022.6.15.2'}, {'idna': '2.8', 'requests': '2.22.0', 'certifi': '2022.6.15.2'}, {'idna': '3.2', 'requests': '2.22.0', 'certifi': '2022.6.15.2'}, {'idna': '3.6', 'requests': '2.22.0', 'certifi': '2022.6.15.2'}, {'idna': '2.9', 'requests': '2.22.0', 'certifi': '2022.6.15.2'}, {'idna': '3.7', 'requests': '2.22.0', 'certifi': '2022.6.15.2'}, {'idna': '3.4', 'requests': '2.22.0', 'certifi': '2022.6.15.2'}, {'idna': '3.3', 'requests': '2.22.0', 'certifi': '2022.6.15.2'}, {'idna': '3.1', 'requests': '2.22.0', 'certifi': '2022.6.15.2'}, {'idna': '3.1', 'requests': '2.22.0', 'certifi': '2017.7.27'}, {'idna': '3.1', 'requests': '2.22.0', 'certifi': '2020.12.5'}, {'idna': '3.1', 'requests': '2.22.0', 'certifi': '2018.10.15'}, {'idna': '3.1', 'requests': '2.22.0', 'certifi': '2021.10.8'}, {'idna': '3.1', 'requests': '2.22.0', 'certifi': '2021.5.30'}, {'idna': '3.1', 'requests': '2.22.0', 'certifi': '2022.5.18.1'}, {'idna': '3.1', 'requests': '2.22.0', 'certifi': '2019.11.28'}, {'idna': '3.1', 'requests': '2.22.0', 'certifi': '2022.5.18'}, {'idna': '3.1', 'requests': '2.22.0', 'certifi': '2018.11.29'}, {'idna': '3.1', 'requests': '2.22.0', 'certifi': '2019.6.16'}, {'idna': '3.1', 'requests': '2.22.0', 'certifi': '2020.6.20'}, {'idna': '3.1', 'requests': '2.22.0', 'certifi': '2020.11.8'}, {'idna': '3.1', 'requests': '2.22.0', 'certifi': '2017.7.27.1'}, {'idna': '3.1', 'requests': '2.22.0', 'certifi': '2018.1.18'}, {'idna': '3.1', 'requests': '2.22.0', 'certifi': '2023.5.7'}, {'idna': '3.1', 'requests': '2.22.0', 'certifi': '2022.6.15'}, {'idna': '3.1', 'requests': '2.22.0', 'certifi': '2022.9.14'}, {'idna': '3.1', 'requests': '2.22.0', 'certifi': '2022.6.15.1'}, {'idna': '3.1', 'requests': '2.22.0', 'certifi': '2020.4.5.1'}, {'idna': '3.1', 'requests': '2.22.0', 'certifi': '2017.4.17'}, {'idna': '3.1', 'requests': '2.22.0', 'certifi': '2024.2.2'}, {'idna': '3.1', 'requests': '2.22.0', 'certifi': '2022.12.7'}, {'idna': '3.1', 'requests': '2.22.0', 'certifi': '2022.9.24'}, {'idna': '3.1', 'requests': '2.22.0', 'certifi': '2023.11.17'}, {'idna': '3.1', 'requests': '2.22.0', 'certifi': '2018.8.24'}, {'idna': '3.1', 'requests': '2.22.0', 'certifi': '2018.4.16'}, {'idna': '3.1', 'requests': '2.22.0', 'certifi': '2020.4.5'}, {'idna': '3.1', 'requests': '2.22.0', 'certifi': '2020.4.5.2'}, {'idna': '3.1', 'requests': '2.22.0', 'certifi': '2019.9.11'}, {'idna': '3.1', 'requests': '2.22.0', 'certifi': '2018.8.13'}, {'idna': '2.7', 'requests': '2.22.0', 'certifi': '2017.7.27'}, {'idna': '3.7', 'requests': '2.22.0', 'certifi': '2017.7.27'}, {'idna': '3.4', 'requests': '2.22.0', 'certifi': '2017.7.27'}, {'idna': '2.9', 'requests': '2.22.0', 'certifi': '2017.7.27'}, {'idna': '3.3', 'requests': '2.22.0', 'certifi': '2017.7.27'}, {'idna': '3.2', 'requests': '2.22.0', 'certifi': '2017.7.27'}, {'idna': '3.6', 'requests': '2.22.0', 'certifi': '2017.7.27'}, {'idna': '2.8', 'requests': '2.22.0', 'certifi': '2017.7.27'}, {'idna': '3.3', 'requests': '2.22.0', 'certifi': '2020.11.8'}, {'idna': '3.3', 'requests': '2.22.0', 'certifi': '2018.8.13'}, {'idna': '3.3', 'requests': '2.22.0', 'certifi': '2021.10.8'}, {'idna': '3.3', 'requests': '2.22.0', 'certifi': '2020.4.5.2'}, {'idna': '3.3', 'requests': '2.22.0', 'certifi': '2018.11.29'}, {'idna': '3.3', 'requests': '2.22.0', 'certifi': '2019.11.28'}, {'idna': '3.3', 'requests': '2.22.0', 'certifi': '2020.4.5'}, {'idna': '3.3', 'requests': '2.22.0', 'certifi': '2022.9.24'}, {'idna': '3.3', 'requests': '2.22.0', 'certifi': '2022.5.18'}, {'idna': '3.3', 'requests': '2.22.0', 'certifi': '2017.7.27.1'}, {'idna': '3.3', 'requests': '2.22.0', 'certifi': '2024.2.2'}, {'idna': '3.3', 'requests': '2.22.0', 'certifi': '2018.1.18'}, {'idna': '3.3', 'requests': '2.22.0', 'certifi': '2022.12.7'}, {'idna': '3.3', 'requests': '2.22.0', 'certifi': '2018.8.24'}, {'idna': '3.3', 'requests': '2.22.0', 'certifi': '2020.4.5.1'}, {'idna': '3.3', 'requests': '2.22.0', 'certifi': '2023.11.17'}, {'idna': '3.3', 'requests': '2.22.0', 'certifi': '2018.4.16'}, {'idna': '3.6', 'requests': '2.22.0', 'certifi': '2018.4.16'}, {'idna': '3.6', 'requests': '2.22.0', 'certifi': '2018.8.13'}, {'idna': '3.6', 'requests': '2.22.0', 'certifi': '2020.6.20'}, {'idna': '3.6', 'requests': '2.22.0', 'certifi': '2019.6.16'}, {'idna': '3.6', 'requests': '2.22.0', 'certifi': '2022.12.7'}, {'idna': '3.6', 'requests': '2.22.0', 'certifi': '2018.8.24'}, {'idna': '3.6', 'requests': '2.22.0', 'certifi': '2018.11.29'}, {'idna': '3.6', 'requests': '2.22.0', 'certifi': '2020.4.5'}, {'idna': '3.6', 'requests': '2.22.0', 'certifi': '2020.11.8'}, {'idna': '3.6', 'requests': '2.22.0', 'certifi': '2021.5.30'}, {'idna': '3.6', 'requests': '2.22.0', 'certifi': '2023.5.7'}, {'idna': '3.6', 'requests': '2.22.0', 'certifi': '2019.9.11'}, {'idna': '3.6', 'requests': '2.22.0', 'certifi': '2020.12.5'}, {'idna': '3.6', 'requests': '2.22.0', 'certifi': '2017.7.27.1'}, {'idna': '3.6', 'requests': '2.22.0', 'certifi': '2021.10.8'}, {'idna': '3.6', 'requests': '2.22.0', 'certifi': '2020.4.5.1'}, {'idna': '3.6', 'requests': '2.22.0', 'certifi': '2023.11.17'}, {'idna': '3.6', 'requests': '2.22.0', 'certifi': '2017.4.17'}, {'idna': '3.6', 'requests': '2.22.0', 'certifi': '2022.6.15'}, {'idna': '3.6', 'requests': '2.22.0', 'certifi': '2022.5.18.1'}, {'idna': '3.6', 'requests': '2.22.0', 'certifi': '2024.2.2'}, {'idna': '3.6', 'requests': '2.22.0', 'certifi': '2019.11.28'}, {'idna': '3.6', 'requests': '2.22.0', 'certifi': '2022.6.15.1'}, {'idna': '3.6', 'requests': '2.22.0', 'certifi': '2020.4.5.2'}, {'idna': '3.6', 'requests': '2.22.0', 'certifi': '2022.9.14'}, {'idna': '3.6', 'requests': '2.22.0', 'certifi': '2018.1.18'}, {'idna': '3.6', 'requests': '2.22.0', 'certifi': '2022.9.24'}, {'idna': '3.6', 'requests': '2.22.0', 'certifi': '2018.10.15'}, {'idna': '3.6', 'requests': '2.22.0', 'certifi': '2022.5.18'}, {'idna': '2.9', 'requests': '2.22.0', 'certifi': '2018.8.24'}, {'idna': '2.8', 'requests': '2.22.0', 'certifi': '2018.8.24'}, {'idna': '3.7', 'requests': '2.22.0', 'certifi': '2018.8.24'}, {'idna': '3.4', 'requests': '2.22.0', 'certifi': '2018.8.24'}, {'idna': '3.2', 'requests': '2.22.0', 'certifi': '2018.8.24'}, {'idna': '2.7', 'requests': '2.22.0', 'certifi': '2018.8.24'}, {'idna': '2.9', 'requests': '2.22.0', 'certifi': '2021.10.8'}, {'idna': '2.9', 'requests': '2.22.0', 'certifi': '2018.4.16'}, {'idna': '2.9', 'requests': '2.22.0', 'certifi': '2018.8.13'}, {'idna': '2.9', 'requests': '2.22.0', 'certifi': '2023.11.17'}, {'idna': '2.9', 'requests': '2.22.0', 'certifi': '2024.2.2'}, {'idna': '2.9', 'requests': '2.22.0', 'certifi': '2017.7.27.1'}, {'idna': '2.9', 'requests': '2.22.0', 'certifi': '2020.11.8'}, {'idna': '2.9', 'requests': '2.22.0', 'certifi': '2018.10.15'}, {'idna': '2.9', 'requests': '2.22.0', 'certifi': '2022.9.24'}, {'idna': '2.9', 'requests': '2.22.0', 'certifi': '2022.9.14'}, {'idna': '2.9', 'requests': '2.22.0', 'certifi': '2020.4.5'}, {'idna': '2.9', 'requests': '2.22.0', 'certifi': '2019.6.16'}, {'idna': '2.9', 'requests': '2.22.0', 'certifi': '2021.5.30'}, {'idna': '2.9', 'requests': '2.22.0', 'certifi': '2019.11.28'}, {'idna': '2.9', 'requests': '2.22.0', 'certifi': '2019.9.11'}, {'idna': '2.9', 'requests': '2.22.0', 'certifi': '2022.5.18.1'}, {'idna': '2.9', 'requests': '2.22.0', 'certifi': '2018.11.29'}, {'idna': '2.9', 'requests': '2.22.0', 'certifi': '2022.12.7'}, {'idna': '2.9', 'requests': '2.22.0', 'certifi': '2022.5.18'}, {'idna': '2.9', 'requests': '2.22.0', 'certifi': '2018.1.18'}, {'idna': '2.9', 'requests': '2.22.0', 'certifi': '2023.5.7'}, {'idna': '2.9', 'requests': '2.22.0', 'certifi': '2017.4.17'}, {'idna': '2.9', 'requests': '2.22.0', 'certifi': '2020.4.5.2'}, {'idna': '2.9', 'requests': '2.22.0', 'certifi': '2020.12.5'}, {'idna': '2.9', 'requests': '2.22.0', 'certifi': '2022.6.15'}, {'idna': '2.9', 'requests': '2.22.0', 'certifi': '2020.4.5.1'}, {'idna': '2.9', 'requests': '2.22.0', 'certifi': '2022.6.15.1'}, {'idna': '2.9', 'requests': '2.22.0', 'certifi': '2020.6.20'}, {'idna': '3.7', 'requests': '2.22.0', 'certifi': '2018.4.16'}, {'idna': '2.8', 'requests': '2.22.0', 'certifi': '2018.4.16'}, {'idna': '3.4', 'requests': '2.22.0', 'certifi': '2018.4.16'}, {'idna': '2.7', 'requests': '2.22.0', 'certifi': '2018.4.16'}, {'idna': '3.2', 'requests': '2.22.0', 'certifi': '2018.4.16'}, {'idna': '3.4', 'requests': '2.22.0', 'certifi': '2017.4.17'}, {'idna': '3.4', 'requests': '2.22.0', 'certifi': '2021.5.30'}, {'idna': '3.4', 'requests': '2.22.0', 'certifi': '2022.9.24'}, {'idna': '3.4', 'requests': '2.22.0', 'certifi': '2020.4.5.1'}, {'idna': '3.4', 'requests': '2.22.0', 'certifi': '2021.10.8'}, {'idna': '3.4', 'requests': '2.22.0', 'certifi': '2018.1.18'}, {'idna': '3.4', 'requests': '2.22.0', 'certifi': '2017.7.27.1'}, {'idna': '3.4', 'requests': '2.22.0', 'certifi': '2024.2.2'}, {'idna': '3.4', 'requests': '2.22.0', 'certifi': '2022.12.7'}, {'idna': '3.4', 'requests': '2.22.0', 'certifi': '2018.8.13'}, {'idna': '3.4', 'requests': '2.22.0', 'certifi': '2022.5.18'}, {'idna': '3.4', 'requests': '2.22.0', 'certifi': '2023.11.17'}, {'idna': '3.4', 'requests': '2.22.0', 'certifi': '2019.6.16'}, {'idna': '3.4', 'requests': '2.22.0', 'certifi': '2018.11.29'}, {'idna': '3.4', 'requests': '2.22.0', 'certifi': '2022.6.15.1'}, {'idna': '3.4', 'requests': '2.22.0', 'certifi': '2020.6.20'}, {'idna': '3.4', 'requests': '2.22.0', 'certifi': '2019.9.11'}, {'idna': '3.4', 'requests': '2.22.0', 'certifi': '2020.4.5'}, {'idna': '3.4', 'requests': '2.22.0', 'certifi': '2020.12.5'}, {'idna': '3.4', 'requests': '2.22.0', 'certifi': '2019.11.28'}, {'idna': '3.4', 'requests': '2.22.0', 'certifi': '2020.11.8'}, {'idna': '3.4', 'requests': '2.22.0', 'certifi': '2023.5.7'}, {'idna': '3.4', 'requests': '2.22.0', 'certifi': '2022.6.15'}, {'idna': '3.4', 'requests': '2.22.0', 'certifi': '2020.4.5.2'}, {'idna': '3.4', 'requests': '2.22.0', 'certifi': '2018.10.15'}, {'idna': '3.4', 'requests': '2.22.0', 'certifi': '2022.5.18.1'}, {'idna': '3.4', 'requests': '2.22.0', 'certifi': '2022.9.14'}, {'idna': '3.7', 'requests': '2.22.0', 'certifi': '2022.9.14'}, {'idna': '2.8', 'requests': '2.22.0', 'certifi': '2022.9.14'}, {'idna': '2.7', 'requests': '2.22.0', 'certifi': '2022.9.14'}, {'idna': '3.2', 'requests': '2.22.0', 'certifi': '2022.9.14'}, {'idna': '3.3', 'requests': '2.22.0', 'certifi': '2022.9.14'}, {'idna': '3.7', 'requests': '2.22.0', 'certifi': '2023.11.17'}, {'idna': '3.7', 'requests': '2.22.0', 'certifi': '2020.4.5'}, {'idna': '3.7', 'requests': '2.22.0', 'certifi': '2024.2.2'}, {'idna': '3.7', 'requests': '2.22.0', 'certifi': '2018.10.15'}, {'idna': '3.7', 'requests': '2.22.0', 'certifi': '2022.5.18'}, {'idna': '3.7', 'requests': '2.22.0', 'certifi': '2023.5.7'}, {'idna': '3.7', 'requests': '2.22.0', 'certifi': '2018.11.29'}, {'idna': '3.7', 'requests': '2.22.0', 'certifi': '2017.4.17'}, {'idna': '3.7', 'requests': '2.22.0', 'certifi': '2018.1.18'}, {'idna': '3.7', 'requests': '2.22.0', 'certifi': '2019.11.28'}, {'idna': '3.7', 'requests': '2.22.0', 'certifi': '2019.6.16'}, {'idna': '3.7', 'requests': '2.22.0', 'certifi': '2022.12.7'}, {'idna': '3.7', 'requests': '2.22.0', 'certifi': '2020.4.5.1'}, {'idna': '3.7', 'requests': '2.22.0', 'certifi': '2020.4.5.2'}, {'idna': '3.7', 'requests': '2.22.0', 'certifi': '2018.8.13'}, {'idna': '3.2', 'requests': '2.22.0', 'certifi': '2018.8.13'}, {'idna': '2.7', 'requests': '2.22.0', 'certifi': '2018.8.13'}, {'idna': '2.8', 'requests': '2.22.0', 'certifi': '2018.8.13'}, {'idna': '3.3', 'requests': '2.22.0', 'certifi': '2022.6.15.1'}, {'idna': '3.3', 'requests': '2.22.0', 'certifi': '2022.6.15'}, {'idna': '3.3', 'requests': '2.22.0', 'certifi': '2021.5.30'}, {'idna': '3.3', 'requests': '2.22.0', 'certifi': '2018.10.15'}, {'idna': '3.3', 'requests': '2.22.0', 'certifi': '2019.6.16'}, {'idna': '3.3', 'requests': '2.22.0', 'certifi': '2023.5.7'}, {'idna': '3.3', 'requests': '2.22.0', 'certifi': '2019.9.11'}, {'idna': '3.3', 'requests': '2.22.0', 'certifi': '2020.6.20'}, {'idna': '3.3', 'requests': '2.22.0', 'certifi': '2020.12.5'}, {'idna': '3.3', 'requests': '2.22.0', 'certifi': '2022.5.18.1'}, {'idna': '3.3', 'requests': '2.22.0', 'certifi': '2017.4.17'}, {'idna': '3.2', 'requests': '2.22.0', 'certifi': '2024.2.2'}, {'idna': '2.8', 'requests': '2.22.0', 'certifi': '2024.2.2'}, {'idna': '2.7', 'requests': '2.22.0', 'certifi': '2024.2.2'}, {'idna': '2.8', 'requests': '2.22.0', 'certifi': '2018.10.15'}, {'idna': '2.8', 'requests': '2.22.0', 'certifi': '2022.6.15.1'}, {'idna': '2.8', 'requests': '2.22.0', 'certifi': '2017.7.27.1'}, {'idna': '2.8', 'requests': '2.22.0', 'certifi': '2022.5.18'}, {'idna': '2.8', 'requests': '2.22.0', 'certifi': '2022.12.7'}, {'idna': '2.8', 'requests': '2.22.0', 'certifi': '2023.11.17'}, {'idna': '2.8', 'requests': '2.22.0', 'certifi': '2018.11.29'}, {'idna': '2.8', 'requests': '2.22.0', 'certifi': '2022.5.18.1'}, {'idna': '2.8', 'requests': '2.22.0', 'certifi': '2018.1.18'}, {'idna': '2.8', 'requests': '2.22.0', 'certifi': '2020.4.5.1'}, {'idna': '2.8', 'requests': '2.22.0', 'certifi': '2020.4.5'}, {'idna': '2.8', 'requests': '2.22.0', 'certifi': '2020.12.5'}, {'idna': '2.8', 'requests': '2.22.0', 'certifi': '2021.5.30'}, {'idna': '2.8', 'requests': '2.22.0', 'certifi': '2023.5.7'}, {'idna': '2.8', 'requests': '2.22.0', 'certifi': '2021.10.8'}, {'idna': '2.8', 'requests': '2.22.0', 'certifi': '2022.6.15'}, {'idna': '2.8', 'requests': '2.22.0', 'certifi': '2019.6.16'}, {'idna': '2.8', 'requests': '2.22.0', 'certifi': '2020.11.8'}, {'idna': '2.8', 'requests': '2.22.0', 'certifi': '2022.9.24'}, {'idna': '2.8', 'requests': '2.22.0', 'certifi': '2017.4.17'}, {'idna': '2.8', 'requests': '2.22.0', 'certifi': '2019.9.11'}, {'idna': '2.8', 'requests': '2.22.0', 'certifi': '2019.11.28'}, {'idna': '2.8', 'requests': '2.22.0', 'certifi': '2020.4.5.2'}, {'idna': '2.8', 'requests': '2.22.0', 'certifi': '2020.6.20'}, {'idna': '2.7', 'requests': '2.22.0', 'certifi': '2020.6.20'}, {'idna': '3.2', 'requests': '2.22.0', 'certifi': '2020.6.20'}, {'idna': '3.2', 'requests': '2.22.0', 'certifi': '2019.6.16'}, {'idna': '3.2', 'requests': '2.22.0', 'certifi': '2021.5.30'}, {'idna': '3.2', 'requests': '2.22.0', 'certifi': '2018.10.15'}, {'idna': '3.2', 'requests': '2.22.0', 'certifi': '2020.12.5'}, {'idna': '3.2', 'requests': '2.22.0', 'certifi': '2020.4.5'}, {'idna': '3.2', 'requests': '2.22.0', 'certifi': '2019.9.11'}, {'idna': '3.2', 'requests': '2.22.0', 'certifi': '2022.9.24'}, {'idna': '3.2', 'requests': '2.22.0', 'certifi': '2020.4.5.2'}, {'idna': '3.2', 'requests': '2.22.0', 'certifi': '2017.7.27.1'}, {'idna': '3.2', 'requests': '2.22.0', 'certifi': '2023.5.7'}, {'idna': '3.2', 'requests': '2.22.0', 'certifi': '2020.11.8'}, {'idna': '3.2', 'requests': '2.22.0', 'certifi': '2021.10.8'}, {'idna': '3.2', 'requests': '2.22.0', 'certifi': '2023.11.17'}, {'idna': '3.2', 'requests': '2.22.0', 'certifi': '2018.11.29'}, {'idna': '3.2', 'requests': '2.22.0', 'certifi': '2017.4.17'}, {'idna': '3.2', 'requests': '2.22.0', 'certifi': '2018.1.18'}, {'idna': '3.2', 'requests': '2.22.0', 'certifi': '2019.11.28'}, {'idna': '3.2', 'requests': '2.22.0', 'certifi': '2022.12.7'}, {'idna': '3.2', 'requests': '2.22.0', 'certifi': '2022.5.18.1'}, {'idna': '3.2', 'requests': '2.22.0', 'certifi': '2022.5.18'}, {'idna': '3.2', 'requests': '2.22.0', 'certifi': '2022.6.15.1'}, {'idna': '3.2', 'requests': '2.22.0', 'certifi': '2022.6.15'}, {'idna': '3.2', 'requests': '2.22.0', 'certifi': '2020.4.5.1'}, {'idna': '2.7', 'requests': '2.22.0', 'certifi': '2017.7.27.1'}, {'idna': '2.7', 'requests': '2.22.0', 'certifi': '2019.9.11'}, {'idna': '2.7', 'requests': '2.22.0', 'certifi': '2021.5.30'}, {'idna': '2.7', 'requests': '2.22.0', 'certifi': '2019.11.28'}, {'idna': '2.7', 'requests': '2.22.0', 'certifi': '2018.11.29'}, {'idna': '2.7', 'requests': '2.22.0', 'certifi': '2022.12.7'}, {'idna': '2.7', 'requests': '2.22.0', 'certifi': '2022.6.15.1'}, {'idna': '2.7', 'requests': '2.22.0', 'certifi': '2017.4.17'}, {'idna': '2.7', 'requests': '2.22.0', 'certifi': '2018.1.18'}, {'idna': '2.7', 'requests': '2.22.0', 'certifi': '2022.5.18'}, {'idna': '2.7', 'requests': '2.22.0', 'certifi': '2020.11.8'}, {'idna': '2.7', 'requests': '2.22.0', 'certifi': '2022.9.24'}, {'idna': '2.7', 'requests': '2.22.0', 'certifi': '2023.5.7'}, {'idna': '2.7', 'requests': '2.22.0', 'certifi': '2018.10.15'}, {'idna': '2.7', 'requests': '2.22.0', 'certifi': '2022.5.18.1'}, {'idna': '2.7', 'requests': '2.22.0', 'certifi': '2020.4.5'}, {'idna': '2.7', 'requests': '2.22.0', 'certifi': '2020.4.5.2'}, {'idna': '2.7', 'requests': '2.22.0', 'certifi': '2022.6.15'}, {'idna': '2.7', 'requests': '2.22.0', 'certifi': '2019.6.16'}, {'idna': '2.7', 'requests': '2.22.0', 'certifi': '2023.11.17'}, {'idna': '2.7', 'requests': '2.22.0', 'certifi': '2020.4.5.1'}, {'idna': '2.7', 'requests': '2.22.0', 'certifi': '2021.10.8'}, {'idna': '2.7', 'requests': '2.22.0', 'certifi': '2020.12.5'}]\n",
            "Latest Solution: {'idna': '3.7', 'requests': '2.22.0', 'certifi': '2024.2.2'}\n"
          ]
        }
      ]
    },
    {
      "cell_type": "code",
      "source": [],
      "metadata": {
        "id": "Ef98DCtl4dBr"
      },
      "execution_count": null,
      "outputs": []
    }
  ],
  "metadata": {
    "colab": {
      "provenance": [],
      "mount_file_id": "1EPXvvHzYi2y37KXLNaynLAlzUFP1Rjat",
      "authorship_tag": "ABX9TyMDACqK1TzotQ2hnG8EIwmJ",
      "include_colab_link": true
    },
    "kernelspec": {
      "display_name": "Python 3",
      "name": "python3"
    },
    "language_info": {
      "name": "python"
    }
  },
  "nbformat": 4,
  "nbformat_minor": 0
}