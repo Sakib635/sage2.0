{
  "nbformat": 4,
  "nbformat_minor": 0,
  "metadata": {
    "colab": {
      "provenance": [],
      "mount_file_id": "1vLgBzt2I42xT7qJ6QelQOUA7vNQwRQTX",
      "authorship_tag": "ABX9TyP6bsuPkNW/uI1t2h8eRf6X",
      "include_colab_link": true
    },
    "kernelspec": {
      "name": "python3",
      "display_name": "Python 3"
    },
    "language_info": {
      "name": "python"
    }
  },
  "cells": [
    {
      "cell_type": "markdown",
      "metadata": {
        "id": "view-in-github",
        "colab_type": "text"
      },
      "source": [
        "<a href=\"https://colab.research.google.com/github/Sakib635/sage2.0/blob/main/5th_copy.ipynb\" target=\"_parent\"><img src=\"https://colab.research.google.com/assets/colab-badge.svg\" alt=\"Open In Colab\"/></a>"
      ]
    },
    {
      "cell_type": "code",
      "source": [
        "!pip install z3-solver\n",
        "from z3 import Solver, Bool, Or, And, Implies, sat, Int, String, Not, Real, simplify, Optimize\n"
      ],
      "metadata": {
        "colab": {
          "base_uri": "https://localhost:8080/"
        },
        "id": "AG3O-ME98k52",
        "outputId": "e821d8bf-754a-4aef-c8bb-eda055ef6675"
      },
      "execution_count": 74,
      "outputs": [
        {
          "output_type": "stream",
          "name": "stdout",
          "text": [
            "Collecting z3-solver\n",
            "  Downloading z3_solver-4.13.0.0-py2.py3-none-manylinux2014_x86_64.whl (57.3 MB)\n",
            "\u001b[2K     \u001b[90m━━━━━━━━━━━━━━━━━━━━━━━━━━━━━━━━━━━━━━━━\u001b[0m \u001b[32m57.3/57.3 MB\u001b[0m \u001b[31m8.4 MB/s\u001b[0m eta \u001b[36m0:00:00\u001b[0m\n",
            "\u001b[?25hInstalling collected packages: z3-solver\n",
            "Successfully installed z3-solver-4.13.0.0\n"
          ]
        }
      ]
    },
    {
      "cell_type": "code",
      "execution_count": 97,
      "metadata": {
        "id": "ToAOPB_PmhV5"
      },
      "outputs": [],
      "source": [
        "import os\n",
        "import json\n",
        "import re\n",
        "import time\n",
        "import logging"
      ]
    },
    {
      "cell_type": "code",
      "source": [
        "# Function to read the requirements.txt file from a directory\n",
        "def read_requirements(directory):\n",
        "    with open(os.path.join(directory, 'r3.txt'), 'r') as file:\n",
        "        return file.read()\n",
        "# Function to read the JSON file from a directory\n",
        "def read_json_file(directory, filename='updated_formated_8k.json'):\n",
        "    with open(os.path.join(directory, filename), 'r') as file:\n",
        "        return json.load(file)"
      ],
      "metadata": {
        "id": "fpQXmzU3mvxM"
      },
      "execution_count": 112,
      "outputs": []
    },
    {
      "cell_type": "code",
      "source": [
        "def parse_requirements(requirements_txt):\n",
        "    requirements = {}\n",
        "    lines = requirements_txt.strip().split('\\n')\n",
        "    for line in lines:\n",
        "        line = line.strip()\n",
        "        if line:\n",
        "            parts = re.split(r'([><!=]=?[\\d.*]+(?:, )?)', line)\n",
        "            package = parts[0].strip()\n",
        "            version_specs = parts[1:]\n",
        "\n",
        "            for spec in version_specs:\n",
        "                if spec.strip():\n",
        "                    match = re.match(r'([><!=]=?)([\\d.*]+)', spec.strip())\n",
        "                    if match:\n",
        "                        operator, version = match.groups()\n",
        "                        if package in requirements:\n",
        "                            requirements[package].append((operator, version))\n",
        "                        else:\n",
        "                            requirements[package] = [(operator, version)]\n",
        "    return requirements"
      ],
      "metadata": {
        "id": "J6ssdqvUmnp-"
      },
      "execution_count": 113,
      "outputs": []
    },
    {
      "cell_type": "code",
      "source": [
        "def version_satisfies(version, spec):\n",
        "    \"\"\"\n",
        "    Check if a version satisfies a given version specifier.\n",
        "    \"\"\"\n",
        "    operator, spec_version = spec\n",
        "    if operator == '==':\n",
        "        return re.match(spec_version.replace('*', '.*'), version) is not None\n",
        "    elif operator == '!=':\n",
        "        return re.match(spec_version.replace('*', '.*'), version) is None\n",
        "    elif operator == '>':\n",
        "        return version > spec_version\n",
        "    elif operator == '>=':\n",
        "        return version >= spec_version\n",
        "    elif operator == '<':\n",
        "        return version < spec_version\n",
        "    elif operator == '<=':\n",
        "        return version <= spec_version\n",
        "    return False\n",
        "\n",
        "def find_matching_versions(package, specs, projects_data):\n",
        "    \"\"\"\n",
        "    Find all versions of a package that satisfy the given version specifiers.\n",
        "    \"\"\"\n",
        "    if package not in projects_data:\n",
        "        return []\n",
        "\n",
        "    versions = projects_data[package].keys()\n",
        "    matching_versions = []\n",
        "    for version in versions:\n",
        "        if all(version_satisfies(version, spec) for spec in specs):\n",
        "            matching_versions.append(version)\n",
        "    return matching_versions\n",
        "\n",
        "def fetch_direct_dependencies(requirements, projects_data):\n",
        "    \"\"\"\n",
        "    Fetch direct dependencies for each package based on the parsed requirements.\n",
        "    \"\"\"\n",
        "    direct_dependencies = {}\n",
        "\n",
        "    for package, specs in requirements.items():\n",
        "        matching_versions = find_matching_versions(package, specs, projects_data[\"projects\"])\n",
        "        direct_dependencies[package] = matching_versions\n",
        "\n",
        "    return direct_dependencies"
      ],
      "metadata": {
        "id": "rMgRHphTrrYR"
      },
      "execution_count": 114,
      "outputs": []
    },
    {
      "cell_type": "code",
      "source": [
        "def parse_dependency(dependency):\n",
        "    \"\"\"\n",
        "    Parse a dependency string into a package and a list of version specifiers.\n",
        "    \"\"\"\n",
        "    parts = re.split(r'([><!=]=?[\\d.*]+(?:, )?)', dependency)\n",
        "    package = parts[0].strip()\n",
        "    version_specs = []\n",
        "\n",
        "    for spec in parts[1:]:\n",
        "        if spec.strip():\n",
        "            match = re.match(r'([><!=]=?)([\\d.*]+)', spec.strip())\n",
        "            if match:\n",
        "                operator, version = match.groups()\n",
        "                version_specs.append((operator, version))\n",
        "\n",
        "    return package, version_specs\n",
        "\n",
        "def fetch_transitive_dependencies(direct_dependencies, projects_data):\n",
        "    \"\"\"\n",
        "    Recursively fetch transitive dependencies for each version of the packages in direct dependencies.\n",
        "    \"\"\"\n",
        "    transitive_dependencies = {}\n",
        "\n",
        "    def _fetch(package, version):\n",
        "        key = f\"{package}=={version}\"\n",
        "        if key in transitive_dependencies:\n",
        "            return transitive_dependencies[key]\n",
        "\n",
        "        version_data = projects_data[\"projects\"][package][version]\n",
        "        dependencies = {}\n",
        "        if version_data[\"dependency_packages\"]:\n",
        "            for dep in version_data[\"dependency_packages\"]:\n",
        "                dep_package, dep_specs = parse_dependency(dep)\n",
        "                matching_versions = find_matching_versions(dep_package, dep_specs, projects_data[\"projects\"])\n",
        "                dependencies[dep_package] = matching_versions\n",
        "                for dep_version in matching_versions:\n",
        "                    _fetch(dep_package, dep_version)\n",
        "\n",
        "        transitive_dependencies[key] = dependencies\n",
        "\n",
        "    for package, versions in direct_dependencies.items():\n",
        "        for version in versions:\n",
        "            _fetch(package, version)\n",
        "\n",
        "    return transitive_dependencies"
      ],
      "metadata": {
        "id": "USg4Guyox1Tb"
      },
      "execution_count": 115,
      "outputs": []
    },
    {
      "cell_type": "code",
      "source": [
        "def generate_smt_expression(direct_dependencies, transitive_dependencies):\n",
        "    # Initialize an Optimize solver to handle both hard and soft constraints\n",
        "    solver = Optimize()\n",
        "    constraints = []\n",
        "\n",
        "    # Generate constraints for direct dependencies\n",
        "    for package, versions in direct_dependencies.items():\n",
        "        if isinstance(versions, list):\n",
        "            # Create a constraint that the package version must be one of the specified versions\n",
        "            package_constraint = Or([String(package) == v for v in versions])\n",
        "            constraints.append(package_constraint)\n",
        "            # Add soft constraints with weights for versions\n",
        "            sorted_versions = sorted(versions, reverse=False)  # Sort versions to prioritize newer versions\n",
        "            weight = 1\n",
        "            for version in sorted_versions:\n",
        "                # Add a soft constraint with increasing weight for newer versions\n",
        "                solver.add_soft(String(package) == version, weight)\n",
        "                weight += 1  # Increment the weight for the next version\n",
        "\n",
        "    # Generate constraints for transitive dependencies\n",
        "    for package_version, dependencies in transitive_dependencies.items():\n",
        "        if isinstance(dependencies, dict):\n",
        "            # Split the package_version to get the package name and its version\n",
        "            package, version = package_version.split('==')\n",
        "            for dep_package, dep_versions in dependencies.items():\n",
        "                # Create a constraint for each dependency that it must be one of the specified versions\n",
        "                dependency_constraint = Or([String(dep_package) == dep_version for dep_version in dep_versions])\n",
        "                constraints.append(Implies(String(package) == version, dependency_constraint))\n",
        "                # Add soft constraints with weights for versions\n",
        "                sorted_versions = sorted(dep_versions, reverse=False)  # Sort versions to prioritize newer versions\n",
        "                weight = 1\n",
        "                for dep_version in sorted_versions:\n",
        "                    # Add a soft constraint with increasing weight for newer versions\n",
        "                    solver.add_soft(String(dep_package) == dep_version, weight)\n",
        "                    weight += 1  # Increment the weight for the next version\n",
        "\n",
        "    # Combine all constraints into a single final constraint\n",
        "    final_constraint = And(constraints)\n",
        "    solver.add(final_constraint)\n",
        "\n",
        "    return solver, constraints"
      ],
      "metadata": {
        "id": "pztQhfhV8CUK"
      },
      "execution_count": 116,
      "outputs": []
    },
    {
      "cell_type": "code",
      "source": [
        "# Function to solve the SMT expression\n",
        "def smt_solver(solver):\n",
        "    # Check for the maximum satisfaction\n",
        "    if solver.check() == sat:\n",
        "        # Get the model\n",
        "        model = solver.model()\n",
        "        return {d.name(): model[d] for d in model.decls()}\n",
        "    else:\n",
        "        print(\"Not satisfiable.\")\n",
        "        return None"
      ],
      "metadata": {
        "id": "a54sv5uM9Jiq"
      },
      "execution_count": 117,
      "outputs": []
    },
    {
      "cell_type": "code",
      "source": [
        "def main():\n",
        "    directory = '/content/drive/MyDrive/smart pip sample data'\n",
        "\n",
        "\n",
        "\n",
        "    # Log file setup\n",
        "    log_file = 'execution_log.txt'\n",
        "\n",
        "    def log_execution_time(action_name, start_time, end_time):\n",
        "        with open(log_file, 'a') as file:\n",
        "            file.write(f'{action_name} execution time: {end_time - start_time} seconds\\n')\n",
        "\n",
        "\n",
        "    # Read files from the directory\n",
        "    start_time = time.time()\n",
        "    requirements_txt = read_requirements(directory)\n",
        "    projects_data = read_json_file(directory)\n",
        "    end_time = time.time()\n",
        "    log_execution_time(\"Reading files\", start_time, end_time)\n",
        "\n",
        "\n",
        "\n",
        "    # Parse requirements\n",
        "    start_time = time.time()\n",
        "    requirements = parse_requirements(requirements_txt)\n",
        "    # assert parse_requirements(\"python-sat>=3.1\") == (\"python-sat\", [(\">=\", 3.1)])\n",
        "    end_time = time.time()\n",
        "    log_execution_time(\"Parsing requirements\", start_time, end_time)\n",
        "    print(\"Parsed requirements:\", requirements)\n",
        "\n",
        "\n",
        "    # Fetch matching versions and their dependencies\n",
        "    start_time = time.time()\n",
        "    direct_dependencies = fetch_direct_dependencies(requirements, projects_data)\n",
        "    end_time = time.time()\n",
        "    log_execution_time(\"Fetching versions and dependencies\", start_time, end_time)\n",
        "    print(\"Direct dependencies:\", direct_dependencies)\n",
        "\n",
        "\n",
        "    # Fetch matching versions and their dependencies\n",
        "    start_time = time.time()\n",
        "    transitive_dependencies = fetch_transitive_dependencies(direct_dependencies, projects_data)\n",
        "    end_time = time.time()\n",
        "    log_execution_time(\"Fetching transitive dependencies dependencies\", start_time, end_time)\n",
        "    print(\"transitive dependencies  :\", transitive_dependencies)\n",
        "\n",
        "    # Generate SMT expression\n",
        "    start_time = time.time()\n",
        "    solver, constraints = generate_smt_expression(direct_dependencies, transitive_dependencies)\n",
        "    end_time = time.time()\n",
        "    log_execution_time(\"Generating SMT expression\", start_time, end_time)\n",
        "    # Save to a file (optional)\n",
        "    with open('SMT_expression.txt', 'w') as file:\n",
        "      file.write(str(solver))\n",
        "\n",
        "\n",
        "    # Solve the SMT expression\n",
        "    start_time = time.time()\n",
        "    solution = smt_solver(solver)\n",
        "    end_time = time.time()\n",
        "    log_execution_time(\"Solving SMT expression\", start_time, end_time)\n",
        "    print(f'Optimal Solution: {solution}')\n",
        "\n",
        "if __name__ == \"__main__\":\n",
        "    main()"
      ],
      "metadata": {
        "colab": {
          "base_uri": "https://localhost:8080/"
        },
        "id": "i3vnRi599eFj",
        "outputId": "0fce85f0-9dfc-458b-bf7a-cabcda70ab40"
      },
      "execution_count": 120,
      "outputs": [
        {
          "output_type": "stream",
          "name": "stdout",
          "text": [
            "Parsed requirements: {'idna': [('>', '2.6')], 'requests': [('==', '2.22.0')]}\n",
            "Direct dependencies: {'idna': ['3.7', '3.6', '3.5', '3.4', '3.3', '3.2', '3.1', '3.0', '2.9', '2.8', '2.7'], 'requests': ['2.22.0']}\n",
            "transitive dependencies  : {'idna==3.7': {}, 'idna==3.6': {}, 'idna==3.5': {}, 'idna==3.4': {}, 'idna==3.3': {}, 'idna==3.2': {}, 'idna==3.1': {}, 'idna==3.0': {}, 'idna==2.9': {}, 'idna==2.8': {}, 'idna==2.7': {}, 'chardet==3.0.4': {}, 'chardet==3.0.3': {}, 'chardet==3.0.2': {}, 'idna==2.6': {}, 'idna==2.5': {}, 'urllib3==1.25.9': {}, 'urllib3==1.25.8': {}, 'urllib3==1.25.7': {}, 'urllib3==1.25.6': {}, 'urllib3==1.25.5': {}, 'urllib3==1.25.4': {}, 'urllib3==1.25.3': {}, 'urllib3==1.25.2': {}, 'urllib3==1.25': {}, 'urllib3==1.24.3': {}, 'urllib3==1.24.2': {}, 'urllib3==1.24.1': {}, 'urllib3==1.24': {}, 'urllib3==1.23': {}, 'urllib3==1.22': {}, 'urllib3==1.21.1': {}, 'certifi==2024.2.2': {}, 'certifi==2023.11.17': {}, 'certifi==2023.7.22': {}, 'certifi==2023.5.7': {}, 'certifi==2022.12.7': {}, 'certifi==2022.9.24': {}, 'certifi==2022.9.14': {}, 'certifi==2022.6.15.2': {}, 'certifi==2022.6.15.1': {}, 'certifi==2022.6.15': {}, 'certifi==2022.5.18.1': {}, 'certifi==2022.5.18': {}, 'certifi==2021.10.8': {}, 'certifi==2021.5.30': {}, 'certifi==2020.12.5': {}, 'certifi==2020.11.8': {}, 'certifi==2020.6.20': {}, 'certifi==2020.4.5.2': {}, 'certifi==2020.4.5.1': {}, 'certifi==2020.4.5': {}, 'certifi==2019.11.28': {}, 'certifi==2019.9.11': {}, 'certifi==2019.6.16': {}, 'certifi==2019.3.9': {}, 'certifi==2018.11.29': {}, 'certifi==2018.10.15': {}, 'certifi==2018.8.24': {}, 'certifi==2018.8.13': {}, 'certifi==2018.4.16': {}, 'certifi==2018.1.18': {}, 'certifi==2017.7.27.1': {}, 'certifi==2017.7.27': {}, 'certifi==2017.4.17': {}, 'requests==2.22.0': {'chardet': ['3.0.4', '3.0.3', '3.0.2'], 'idna': ['2.8', '2.7', '2.6', '2.5'], 'urllib3': ['1.25.9', '1.25.8', '1.25.7', '1.25.6', '1.25.5', '1.25.4', '1.25.3', '1.25.2', '1.25', '1.24.3', '1.24.2', '1.24.1', '1.24', '1.23', '1.22', '1.21.1'], 'certifi': ['2024.2.2', '2023.11.17', '2023.7.22', '2023.5.7', '2022.12.7', '2022.9.24', '2022.9.14', '2022.6.15.2', '2022.6.15.1', '2022.6.15', '2022.5.18.1', '2022.5.18', '2021.10.8', '2021.5.30', '2020.12.5', '2020.11.8', '2020.6.20', '2020.4.5.2', '2020.4.5.1', '2020.4.5', '2019.11.28', '2019.9.11', '2019.6.16', '2019.3.9', '2018.11.29', '2018.10.15', '2018.8.24', '2018.8.13', '2018.4.16', '2018.1.18', '2017.7.27.1', '2017.7.27', '2017.4.17']}}\n",
            "Optimal Solution: {'urllib3': \"1.25.9\", 'idna': \"2.8\", 'certifi': \"2024.2.2\", 'chardet': \"3.0.4\", 'requests': \"2.22.0\"}\n"
          ]
        }
      ]
    },
    {
      "cell_type": "code",
      "source": [],
      "metadata": {
        "id": "sh2ZapdQ9jrp"
      },
      "execution_count": 94,
      "outputs": []
    }
  ]
}