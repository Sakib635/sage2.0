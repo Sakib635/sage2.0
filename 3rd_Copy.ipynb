{
  "cells": [
    {
      "cell_type": "markdown",
      "metadata": {
        "id": "view-in-github",
        "colab_type": "text"
      },
      "source": [
        "<a href=\"https://colab.research.google.com/github/Sakib635/sage2.0/blob/main/3rd_Copy.ipynb\" target=\"_parent\"><img src=\"https://colab.research.google.com/assets/colab-badge.svg\" alt=\"Open In Colab\"/></a>"
      ]
    },
    {
      "cell_type": "code",
      "execution_count": null,
      "metadata": {
        "colab": {
          "base_uri": "https://localhost:8080/"
        },
        "id": "WBFb7j43IV54",
        "outputId": "2636bb36-c520-48f9-8d9e-7cd22342a6f0"
      },
      "outputs": [
        {
          "output_type": "stream",
          "name": "stdout",
          "text": [
            "Collecting z3-solver\n",
            "  Downloading z3_solver-4.13.0.0-py2.py3-none-manylinux2014_x86_64.whl (57.3 MB)\n",
            "\u001b[2K     \u001b[90m━━━━━━━━━━━━━━━━━━━━━━━━━━━━━━━━━━━━━━━━\u001b[0m \u001b[32m57.3/57.3 MB\u001b[0m \u001b[31m16.0 MB/s\u001b[0m eta \u001b[36m0:00:00\u001b[0m\n",
            "\u001b[?25hInstalling collected packages: z3-solver\n",
            "Successfully installed z3-solver-4.13.0.0\n"
          ]
        }
      ],
      "source": [
        "!pip install z3-solver"
      ]
    },
    {
      "cell_type": "code",
      "execution_count": 98,
      "metadata": {
        "id": "6eBkWwgrIr4n"
      },
      "outputs": [],
      "source": [
        "import os\n",
        "import json\n",
        "import re\n",
        "from z3 import Solver, Bool, Or, And, Implies, sat, Int, String, Not, Real, simplify, Optimize\n",
        "import time\n",
        "import logging"
      ]
    },
    {
      "cell_type": "code",
      "execution_count": 99,
      "metadata": {
        "id": "h0t9DO1rJRWt"
      },
      "outputs": [],
      "source": [
        "# Function to read the requirements.txt file from a directory\n",
        "def read_requirements(directory):\n",
        "    with open(os.path.join(directory, 'r3.txt'), 'r') as file:\n",
        "        return file.read()\n",
        "\n",
        "# Function to read the JSON file from a directory\n",
        "def read_json_file(directory, filename='updated_formated_8k.json'):\n",
        "    with open(os.path.join(directory, filename), 'r') as file:\n",
        "        return json.load(file)\n"
      ]
    },
    {
      "cell_type": "code",
      "source": [],
      "metadata": {
        "id": "RjVvdQTIJCfC"
      },
      "execution_count": 99,
      "outputs": []
    },
    {
      "cell_type": "code",
      "source": [
        "# Function to parse the requirements.txt content\n",
        "def parse_requirements(requirements_txt):\n",
        "    requirements = {}\n",
        "    lines = requirements_txt.strip().split('\\n')\n",
        "    for line in lines:\n",
        "        line = line.strip()\n",
        "        if line:\n",
        "            if '==' in line:\n",
        "                package, version = line.split('==')\n",
        "                requirements[package.strip()] = ('==', version.strip())\n",
        "            elif '>=' in line:\n",
        "                package, version = line.split('>=')\n",
        "                requirements[package.strip()] = ('>=', version.strip())\n",
        "            elif '<=' in line:\n",
        "                package, version = line.split('<=')\n",
        "                requirements[package.strip()] = ('<=', version.strip())\n",
        "            elif '>' in line:\n",
        "                package, version = line.split('>')\n",
        "                requirements[package.strip()] = ('>', version.strip())\n",
        "            elif '<' in line:\n",
        "                package, version = line.split('<')\n",
        "                requirements[package.strip()] = ('<', version.strip())\n",
        "            elif '!=' in line:\n",
        "                package, version = line.split('!=')\n",
        "                requirements[package.strip()] = ('!=', version.strip())\n",
        "    return requirements\n"
      ],
      "metadata": {
        "id": "-0QbLvR2IoMj"
      },
      "execution_count": 100,
      "outputs": []
    },
    {
      "cell_type": "code",
      "execution_count": 101,
      "metadata": {
        "id": "o5vV4rRgXT6N"
      },
      "outputs": [],
      "source": [
        "\n",
        "# Function to fetch versions according to constraints\n",
        "def fetch_versions(requirements, projects_data):\n",
        "    matching_versions = {}\n",
        "    for package, (operator, version_constraint) in requirements.items():\n",
        "        if package in projects_data['projects']:\n",
        "            available_versions = projects_data['projects'][package].keys()\n",
        "            if operator == '==':\n",
        "                pattern = re.compile(f'^{version_constraint.replace(\"*\", \".*\")}$')\n",
        "                matching_versions[package] = [v for v in available_versions if pattern.match(v)]\n",
        "            elif operator == '>=':\n",
        "                matching_versions[package] = [v for v in available_versions if v >= version_constraint]\n",
        "            elif operator == '<=':\n",
        "                matching_versions[package] = [v for v in available_versions if v <= version_constraint]\n",
        "            elif operator == '>':\n",
        "                matching_versions[package] = [v for v in available_versions if v > version_constraint]\n",
        "            elif operator == '<':\n",
        "                matching_versions[package] = [v for v in available_versions if v < version_constraint]\n",
        "            elif operator == '!=':\n",
        "                matching_versions[package] = [v for v in available_versions if v != version_constraint]\n",
        "    return matching_versions\n",
        "\n",
        "# Function to fetch dependencies for a specific version of a package\n",
        "def fetch_dependencies(package, version, projects_data):\n",
        "    dependencies = projects_data['projects'][package][version].get('dependency_packages', [])\n",
        "    if dependencies is None:\n",
        "        dependencies = []\n",
        "    print(f\"Package: {package}, Version: {version}, Dependencies: {dependencies}\")\n",
        "    return dependencies\n",
        "\n",
        "\n",
        "\n",
        "# Function to parse requirements from a list of dependencies\n",
        "def parse_requirements_from_list(dependencies):\n",
        "    requirements = {}\n",
        "    for dependency in dependencies:\n",
        "        print(f'hello-dependency: ',dependency)\n",
        "        if '==' in dependency:\n",
        "            package, version = dependency.split('==')\n",
        "            requirements[package.strip()] = ('==', version.strip())\n",
        "\n",
        "        elif '>=' in dependency:\n",
        "            package, version = dependency.split('>=')\n",
        "            requirements[package.strip()] = ('>=', version.strip())\n",
        "        elif '<=' in dependency:\n",
        "            package, version = dependency.split('<=')\n",
        "            requirements[package.strip()] = ('<=', version.strip())\n",
        "        elif '>' in dependency:\n",
        "            package, version = dependency.split('>')\n",
        "            requirements[package.strip()] = ('>', version.strip())\n",
        "        elif '<' in dependency:\n",
        "            package, version = dependency.split('<')\n",
        "            requirements[package.strip()] = ('<', version.strip())\n",
        "        elif '!=' in dependency:\n",
        "            package, version = dependency.split('!=')\n",
        "            requirements[package.strip()] = ('!=', version.strip())\n",
        "    #print(f\"requirements = {requirements}\")\n",
        "    return requirements\n",
        "\n"
      ]
    },
    {
      "cell_type": "code",
      "source": [
        "# Function to recursively fetch versions and their dependencies\n",
        "def fetch_versions_and_dependencies(requirements, projects_data, visited=None):\n",
        "\n",
        "    if visited is None:\n",
        "        visited = set()\n",
        "    direct_dependencies = fetch_versions(requirements, projects_data)\n",
        "    transitive_dependencies = {}\n",
        "\n",
        "    for package, versions in list(direct_dependencies.items()):  # Use list to create a copy for iteration\n",
        "        for version in versions:\n",
        "            if (package, version) not in visited:\n",
        "                visited.add((package, version))\n",
        "                dependencies = fetch_dependencies(package, version, projects_data)\n",
        "                #todo: Is this correct\n",
        "                if dependencies:  # Only proceed if there are dependencies\n",
        "                    dependency_requirements = parse_requirements_from_list(dependencies)\n",
        "\n",
        "                    if dependency_requirements:\n",
        "                        dep_direct, dep_transitive = fetch_versions_and_dependencies(dependency_requirements, projects_data, visited)\n",
        "                        transitive_dependencies[f\"{package}=={version}\"] = dep_direct\n",
        "                        transitive_dependencies.update(dep_transitive)\n",
        "    #print(f\"Direct Dependencies generate_smt: {direct_dependencies}\")\n",
        "    #print(f\"Transitive Dependencies generate_smt: {transitive_dependencies}\")\n",
        "    return direct_dependencies, transitive_dependencies"
      ],
      "metadata": {
        "id": "NJntQ_eCI2Vb"
      },
      "execution_count": 102,
      "outputs": []
    },
    {
      "cell_type": "code",
      "source": [
        "def generate_smt_expression(direct_dependencies, transitive_dependencies):\n",
        "    # Initialize an Optimize solver to handle both hard and soft constraints\n",
        "    solver = Optimize()\n",
        "    constraints = []\n",
        "\n",
        "    # Generate constraints for direct dependencies\n",
        "    for package, versions in direct_dependencies.items():\n",
        "        if isinstance(versions, list):\n",
        "            # Create a constraint that the package version must be one of the specified versions\n",
        "            package_constraint = Or([String(package) == v for v in versions])\n",
        "            constraints.append(package_constraint)\n",
        "            # Add soft constraints with weights for versions\n",
        "            sorted_versions = sorted(versions, reverse=False)  # Sort versions to prioritize newer versions\n",
        "            weight = 1\n",
        "            for version in sorted_versions:\n",
        "                # Add a soft constraint with increasing weight for newer versions\n",
        "                solver.add_soft(String(package) == version, weight)\n",
        "                weight += 1  # Increment the weight for the next version\n",
        "\n",
        "    # Generate constraints for transitive dependencies\n",
        "    for package_version, dependencies in transitive_dependencies.items():\n",
        "        if isinstance(dependencies, dict):\n",
        "            # Split the package_version to get the package name and its version\n",
        "            package, version = package_version.split('==')\n",
        "            for dep_package, dep_versions in dependencies.items():\n",
        "                # Create a constraint for each dependency that it must be one of the specified versions\n",
        "                dependency_constraint = Or([String(dep_package) == dep_version for dep_version in dep_versions])\n",
        "                constraints.append(Implies(String(package) == version, dependency_constraint))\n",
        "                # Add soft constraints with weights for versions\n",
        "                sorted_versions = sorted(dep_versions, reverse=False)  # Sort versions to prioritize newer versions\n",
        "                weight = 1\n",
        "                for dep_version in sorted_versions:\n",
        "                    # Add a soft constraint with increasing weight for newer versions\n",
        "                    solver.add_soft(String(dep_package) == dep_version, weight)\n",
        "                    weight += 1  # Increment the weight for the next version\n",
        "\n",
        "    # Combine all constraints into a single final constraint\n",
        "    final_constraint = And(constraints)\n",
        "    solver.add(final_constraint)\n",
        "\n",
        "    return solver, constraints\n"
      ],
      "metadata": {
        "id": "y2Z0gv0XUfDj"
      },
      "execution_count": 103,
      "outputs": []
    },
    {
      "cell_type": "code",
      "source": [
        "# Function to solve the SMT expression\n",
        "def smt_solver(solver):\n",
        "    # Check for the maximum satisfaction\n",
        "    if solver.check() == sat:\n",
        "        print(\"The expression is satisfiable with the maximum satisfaction of soft constraints.\")\n",
        "        model = solver.model()\n",
        "        return {d.name(): model[d] for d in model.decls()}\n",
        "    else:\n",
        "        print(\"Not satisfiable.\")\n",
        "        return None\n"
      ],
      "metadata": {
        "id": "2wKoZSIfXVO2"
      },
      "execution_count": 104,
      "outputs": []
    },
    {
      "cell_type": "code",
      "source": [
        "\n",
        "def main():\n",
        "    directory = '/content/drive/MyDrive/smart pip sample data'\n",
        "\n",
        "\n",
        "\n",
        "    # Log file setup\n",
        "    log_file = 'execution_log.txt'\n",
        "\n",
        "    def log_execution_time(action_name, start_time, end_time):\n",
        "        with open(log_file, 'a') as file:\n",
        "            file.write(f'{action_name} execution time: {end_time - start_time} seconds\\n')\n",
        "\n",
        "\n",
        "\n",
        "    # Read files from the directory\n",
        "    start_time = time.time()\n",
        "    requirements_txt = read_requirements(directory)\n",
        "    projects_data = read_json_file(directory)\n",
        "    end_time = time.time()\n",
        "    log_execution_time(\"Reading files\", start_time, end_time)\n",
        "\n",
        "\n",
        "\n",
        "    # Parse requirements\n",
        "    start_time = time.time()\n",
        "    requirements = parse_requirements(requirements_txt)\n",
        "    end_time = time.time()\n",
        "    log_execution_time(\"Parsing requirements\", start_time, end_time)\n",
        "    print(\"Parsed requirements:\", requirements)\n",
        "\n",
        "\n",
        "\n",
        "    # Fetch matching versions and their dependencies\n",
        "    start_time = time.time()\n",
        "    direct_dependencies, transitive_dependencies = fetch_versions_and_dependencies(requirements, projects_data)\n",
        "    end_time = time.time()\n",
        "    log_execution_time(\"Fetching versions and dependencies\", start_time, end_time)\n",
        "    print(\"Direct dependencies:\", direct_dependencies)\n",
        "    print(\"Transitive dependencies:\", transitive_dependencies)\n",
        "    # Save to a file (optional)\n",
        "    with open('Transitive_expression.json', 'w') as file:\n",
        "        file.write(str(transitive_dependencies))\n",
        "\n",
        "\n",
        "\n",
        "    # Generate SMT expression\n",
        "    start_time = time.time()\n",
        "    solver, constraints = generate_smt_expression(direct_dependencies, transitive_dependencies)\n",
        "    end_time = time.time()\n",
        "    log_execution_time(\"Generating SMT expression\", start_time, end_time)\n",
        "    # Save to a file (optional)\n",
        "    with open('SMT_expression.txt', 'w') as file:\n",
        "      file.write(str(solver))\n",
        "\n",
        "\n",
        "\n",
        "    # Solve the SMT expression\n",
        "    start_time = time.time()\n",
        "    solution = smt_solver(solver)\n",
        "    end_time = time.time()\n",
        "    log_execution_time(\"Solving SMT expression\", start_time, end_time)\n",
        "    print(f'Possible Solutions: {solution}')\n",
        "\n",
        "if __name__ == \"__main__\":\n",
        "    main()"
      ],
      "metadata": {
        "colab": {
          "base_uri": "https://localhost:8080/"
        },
        "id": "GlX8ulQPI0Og",
        "outputId": "c05c7557-2c8f-4e78-88d4-1eff267011c3"
      },
      "execution_count": 106,
      "outputs": [
        {
          "output_type": "stream",
          "name": "stdout",
          "text": [
            "Parsed requirements: {'idna': ('>', '2.6'), 'requests': ('==', '2.22.0')}\n",
            "Package: idna, Version: 3.7, Dependencies: []\n",
            "Package: idna, Version: 3.6, Dependencies: []\n",
            "Package: idna, Version: 3.5, Dependencies: []\n",
            "Package: idna, Version: 3.4, Dependencies: []\n",
            "Package: idna, Version: 3.3, Dependencies: []\n",
            "Package: idna, Version: 3.2, Dependencies: []\n",
            "Package: idna, Version: 3.1, Dependencies: []\n",
            "Package: idna, Version: 3.0, Dependencies: []\n",
            "Package: idna, Version: 2.9, Dependencies: []\n",
            "Package: idna, Version: 2.8, Dependencies: []\n",
            "Package: idna, Version: 2.7, Dependencies: []\n",
            "Package: requests, Version: 2.22.0, Dependencies: ['chardet<3.1.0,>=3.0.2', 'idna<2.9,>=2.5', 'urllib3!=1.25.0,!=1.25.1,<1.26,>=1.21.1', 'certifi>=2017.4.17']\n",
            "hello-dependency:  chardet<3.1.0,>=3.0.2\n",
            "hello-dependency:  idna<2.9,>=2.5\n",
            "hello-dependency:  urllib3!=1.25.0,!=1.25.1,<1.26,>=1.21.1\n",
            "hello-dependency:  certifi>=2017.4.17\n",
            "Package: certifi, Version: 2024.2.2, Dependencies: []\n",
            "Package: certifi, Version: 2023.11.17, Dependencies: []\n",
            "Package: certifi, Version: 2023.7.22, Dependencies: []\n",
            "Package: certifi, Version: 2023.5.7, Dependencies: []\n",
            "Package: certifi, Version: 2022.12.7, Dependencies: []\n",
            "Package: certifi, Version: 2022.9.24, Dependencies: []\n",
            "Package: certifi, Version: 2022.9.14, Dependencies: []\n",
            "Package: certifi, Version: 2022.6.15.2, Dependencies: []\n",
            "Package: certifi, Version: 2022.6.15.1, Dependencies: []\n",
            "Package: certifi, Version: 2022.6.15, Dependencies: []\n",
            "Package: certifi, Version: 2022.5.18.1, Dependencies: []\n",
            "Package: certifi, Version: 2022.5.18, Dependencies: []\n",
            "Package: certifi, Version: 2021.10.8, Dependencies: []\n",
            "Package: certifi, Version: 2021.5.30, Dependencies: []\n",
            "Package: certifi, Version: 2020.12.5, Dependencies: []\n",
            "Package: certifi, Version: 2020.11.8, Dependencies: []\n",
            "Package: certifi, Version: 2020.6.20, Dependencies: []\n",
            "Package: certifi, Version: 2020.4.5.2, Dependencies: []\n",
            "Package: certifi, Version: 2020.4.5.1, Dependencies: []\n",
            "Package: certifi, Version: 2020.4.5, Dependencies: []\n",
            "Package: certifi, Version: 2019.11.28, Dependencies: []\n",
            "Package: certifi, Version: 2019.9.11, Dependencies: []\n",
            "Package: certifi, Version: 2019.6.16, Dependencies: []\n",
            "Package: certifi, Version: 2019.3.9, Dependencies: []\n",
            "Package: certifi, Version: 2018.11.29, Dependencies: []\n",
            "Package: certifi, Version: 2018.10.15, Dependencies: []\n",
            "Package: certifi, Version: 2018.8.24, Dependencies: []\n",
            "Package: certifi, Version: 2018.8.13, Dependencies: []\n",
            "Package: certifi, Version: 2018.4.16, Dependencies: []\n",
            "Package: certifi, Version: 2018.1.18, Dependencies: []\n",
            "Package: certifi, Version: 2017.7.27.1, Dependencies: []\n",
            "Package: certifi, Version: 2017.7.27, Dependencies: []\n",
            "Package: certifi, Version: 2017.4.17, Dependencies: []\n",
            "Direct dependencies: {'idna': ['3.7', '3.6', '3.5', '3.4', '3.3', '3.2', '3.1', '3.0', '2.9', '2.8', '2.7'], 'requests': ['2.22.0']}\n",
            "Transitive dependencies: {'requests==2.22.0': {'certifi': ['2024.2.2', '2023.11.17', '2023.7.22', '2023.5.7', '2022.12.7', '2022.9.24', '2022.9.14', '2022.6.15.2', '2022.6.15.1', '2022.6.15', '2022.5.18.1', '2022.5.18', '2021.10.8', '2021.5.30', '2020.12.5', '2020.11.8', '2020.6.20', '2020.4.5.2', '2020.4.5.1', '2020.4.5', '2019.11.28', '2019.9.11', '2019.6.16', '2019.3.9', '2018.11.29', '2018.10.15', '2018.8.24', '2018.8.13', '2018.4.16', '2018.1.18', '2017.7.27.1', '2017.7.27', '2017.4.17']}}\n",
            "The expression is satisfiable with the maximum satisfaction of soft constraints.\n",
            "Possible Solutions: {'idna': \"3.7\", 'certifi': \"2024.2.2\", 'requests': \"2.22.0\"}\n"
          ]
        }
      ]
    },
    {
      "cell_type": "code",
      "source": [],
      "metadata": {
        "id": "Ef98DCtl4dBr"
      },
      "execution_count": null,
      "outputs": []
    }
  ],
  "metadata": {
    "colab": {
      "provenance": [],
      "mount_file_id": "1qOCsDzti4fmGZTekZ2W1eBb5aSB7sCUC",
      "authorship_tag": "ABX9TyNTW0xb4kYurQL4QpaqZ8ke",
      "include_colab_link": true
    },
    "kernelspec": {
      "display_name": "Python 3",
      "name": "python3"
    },
    "language_info": {
      "name": "python"
    }
  },
  "nbformat": 4,
  "nbformat_minor": 0
}